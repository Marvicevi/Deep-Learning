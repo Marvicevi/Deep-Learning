{
  "nbformat": 4,
  "nbformat_minor": 0,
  "metadata": {
    "colab": {
      "provenance": []
    },
    "kernelspec": {
      "name": "python3",
      "display_name": "Python 3"
    },
    "language_info": {
      "name": "python"
    },
    "gpuClass": "standard"
  },
  "cells": [
    {
      "cell_type": "code",
      "source": [
        "#Resolución del problema con Tensorflow\n",
        "import tensorflow as tf # Import tensorflow library\n",
        "import matplotlib.pyplot as plt # Import matplotlib library\n",
        "import numpy as np # Import numpy library\n",
        "\n",
        "mnist = tf.keras.datasets.mnist # Object of the MNIST dataset\n",
        "(x_train, y_train),(x_test, y_test) = mnist.load_data() # Load data\n",
        "\n",
        "plt.imshow(x_train[0], cmap=\"gray\") # Import the image\n",
        "plt.show() # Plot the image"
      ],
      "metadata": {
        "colab": {
          "base_uri": "https://localhost:8080/",
          "height": 317
        },
        "id": "gK-8NzrMysu3",
        "outputId": "7f2f58ca-5886-4be1-fbf9-45545c9081d8"
      },
      "execution_count": null,
      "outputs": [
        {
          "output_type": "stream",
          "name": "stdout",
          "text": [
            "Downloading data from https://storage.googleapis.com/tensorflow/tf-keras-datasets/mnist.npz\n",
            "11493376/11490434 [==============================] - 0s 0us/step\n",
            "11501568/11490434 [==============================] - 0s 0us/step\n"
          ]
        },
        {
          "output_type": "display_data",
          "data": {
            "text/plain": [
              "<Figure size 432x288 with 1 Axes>"
            ],
            "image/png": "[encoded data removed]"
          },
          "metadata": {
            "needs_background": "light"
          }
        }
      ]
    },
    {
      "cell_type": "code",
      "source": [
        "x_train = tf.keras.utils.normalize(x_train, axis=1) # Normalize the training dataset\n",
        "x_test = tf.keras.utils.normalize(x_test, axis=1) # Normalize the testing dataset\n",
        "\n",
        "#Build the model object\n",
        "model = tf.keras.models.Sequential()\n",
        "# Add the Flatten Layer\n",
        "model.add(tf.keras.layers.Flatten())\n",
        "# Build the input and the hidden layers\n",
        "model.add(tf.keras.layers.Dense(128, activation=tf.nn.relu))\n",
        "model.add(tf.keras.layers.Dense(128, activation=tf.nn.relu))\n",
        "# Build the output layer\n",
        "model.add(tf.keras.layers.Dense(10, activation=tf.nn.softmax))\n",
        "\n",
        "model.compile(optimizer=\"adam\", loss=\"sparse_categorical_crossentropy\", metrics=[\"accuracy\"])\n",
        "\n",
        "model.fit(x=x_train, y=y_train, epochs=5) # Start training process"
      ],
      "metadata": {
        "colab": {
          "base_uri": "https://localhost:8080/"
        },
        "id": "48GOPrzzy-cZ",
        "outputId": "4d3ba17d-37c7-419a-87c4-7213cb514802"
      },
      "execution_count": null,
      "outputs": [
        {
          "output_type": "stream",
          "name": "stdout",
          "text": [
            "Epoch 1/5\n",
            "1875/1875 [==============================] - 12s 4ms/step - loss: 0.2582 - accuracy: 0.9240\n",
            "Epoch 2/5\n",
            "1875/1875 [==============================] - 7s 4ms/step - loss: 0.1048 - accuracy: 0.9676\n",
            "Epoch 3/5\n",
            "1875/1875 [==============================] - 4s 2ms/step - loss: 0.0734 - accuracy: 0.9763\n",
            "Epoch 4/5\n",
            "1875/1875 [==============================] - 4s 2ms/step - loss: 0.0551 - accuracy: 0.9823\n",
            "Epoch 5/5\n",
            "1875/1875 [==============================] - 5s 2ms/step - loss: 0.0412 - accuracy: 0.9866\n"
          ]
        },
        {
          "output_type": "execute_result",
          "data": {
            "text/plain": [
              "<keras.callbacks.History at 0x7fe96675d410>"
            ]
          },
          "metadata": {},
          "execution_count": 2
        }
      ]
    },
    {
      "cell_type": "code",
      "source": [
        "# Evaluate the model performance\n",
        "test_loss, test_acc = model.evaluate(x=x_test, y=y_test)\n",
        "# Print out the model accuracy \n",
        "print('\\nTest accuracy:', test_acc)"
      ],
      "metadata": {
        "colab": {
          "base_uri": "https://localhost:8080/"
        },
        "id": "1I_ww8W1zOBv",
        "outputId": "bddcc17b-ddaf-48ce-8104-ed63fbf461bf"
      },
      "execution_count": null,
      "outputs": [
        {
          "output_type": "stream",
          "name": "stdout",
          "text": [
            "313/313 [==============================] - 1s 2ms/step - loss: 0.0925 - accuracy: 0.9725\n",
            "\n",
            "Test accuracy: 0.9725000262260437\n"
          ]
        }
      ]
    },
    {
      "cell_type": "code",
      "source": [
        "# Verificamos sus predicciones para los datos restantes\n",
        "esperado = y_test\n",
        "prediccion = np.argmax(model.predict(x_test), axis=-1)\n",
        "\n",
        "# Y mostramos los resultados.\n",
        "from sklearn import metrics\n",
        "\n",
        "matriz_conf=metrics.confusion_matrix(esperado, prediccion)\n",
        "clasif_report=metrics.classification_report(esperado, prediccion)\n",
        "\n",
        "print(\"Reporte del clasificador: \\n %s\\n %s\\n\" %(model, clasif_report))\n",
        "print(\"Matriz de confusión:\\n%s\" % matriz_conf)\n",
        "#Macro AVG: Promedio normal de métricas F1 para cada clase\n",
        "#Weighted AVG: Promedio ponderado de F1 por porcentaje de elementos de la clase\n",
        "#https://towardsdatascience.com/micro-macro-weighted-averages-of-f1-score-clearly-explained-b603420b292f"
      ],
      "metadata": {
        "colab": {
          "base_uri": "https://localhost:8080/"
        },
        "id": "1SlImcFVIda_",
        "outputId": "098eda67-fd88-4fcb-8477-718b8041b1cf"
      },
      "execution_count": null,
      "outputs": [
        {
          "output_type": "stream",
          "name": "stdout",
          "text": [
            "Reporte del clasificador: \n",
            " <keras.engine.sequential.Sequential object at 0x7fe9e3d3b450>\n",
            "               precision    recall  f1-score   support\n",
            "\n",
            "           0       0.98      0.99      0.99       980\n",
            "           1       0.99      0.98      0.99      1135\n",
            "           2       0.96      0.98      0.97      1032\n",
            "           3       0.96      0.98      0.97      1010\n",
            "           4       0.99      0.95      0.97       982\n",
            "           5       0.99      0.95      0.97       892\n",
            "           6       0.98      0.98      0.98       958\n",
            "           7       0.98      0.96      0.97      1028\n",
            "           8       0.96      0.97      0.97       974\n",
            "           9       0.94      0.97      0.96      1009\n",
            "\n",
            "    accuracy                           0.97     10000\n",
            "   macro avg       0.97      0.97      0.97     10000\n",
            "weighted avg       0.97      0.97      0.97     10000\n",
            "\n",
            "\n",
            "Matriz de confusión:\n",
            "[[ 972    0    2    1    0    0    1    0    3    1]\n",
            " [   0 1117    6    2    0    0    3    0    6    1]\n",
            " [   2    0 1015    4    1    0    1    6    3    0]\n",
            " [   0    0    9  990    0    1    0    2    4    4]\n",
            " [   2    0    6    0  928    0    3    4    2   37]\n",
            " [   3    0    1   17    0  849    6    1    9    6]\n",
            " [   6    2    3    1    2    1  939    0    4    0]\n",
            " [   1    5   13    9    1    0    0  986    7    6]\n",
            " [   0    1    5    4    2    3    2    2  948    7]\n",
            " [   7    2    0    6    5    2    0    3    3  981]]\n"
          ]
        }
      ]
    },
    {
      "cell_type": "code",
      "source": [
        "print('Número real: '+str(np.argmax(prediccion[1000]))) # Print out the number\n",
        "plt.imshow(x_test[1000], cmap=\"gray\") # Import the image\n",
        "plt.show() # Show the image"
      ],
      "metadata": {
        "colab": {
          "base_uri": "https://localhost:8080/",
          "height": 282
        },
        "id": "dkp9CC0SzUSQ",
        "outputId": "5ebfa991-f057-4e88-b040-c0941f6dc61a"
      },
      "execution_count": null,
      "outputs": [
        {
          "output_type": "stream",
          "name": "stdout",
          "text": [
            "Número real: 0\n"
          ]
        },
        {
          "output_type": "display_data",
          "data": {
            "text/plain": [
              "<Figure size 432x288 with 1 Axes>"
            ],
            "image/png": "[encoded data removed]"
          },
          "metadata": {
            "needs_background": "light"
          }
        }
      ]
    },
    {
      "cell_type": "code",
      "source": [
        "###Visualización mejor de la matriz de confusión###\n",
        "import seaborn as sn\n",
        "#snn_cm = confusion_matrix(np.argmax(y_test_onehot, axis=1), np.argmax(y_test_predichos, axis=1))\n",
        "#snn_df_cm = pd.DataFrame(snn_cm, range(100), range(100))  \n",
        "#snn_df_cm = pd.DataFrame(snn_cm)\n",
        "plt.figure(figsize = (10,10))  \n",
        "sn.set(font_scale=0.5) #for label size  \n",
        "sn.heatmap(matriz_conf, annot=True, annot_kws={\"size\": 9}) # font size  \n",
        "plt.show()"
      ],
      "metadata": {
        "colab": {
          "base_uri": "https://localhost:8080/",
          "height": 589
        },
        "id": "iIewGSh6USKq",
        "outputId": "6104b774-e24d-4459-cfdc-90464e8f9aa3"
      },
      "execution_count": null,
      "outputs": [
        {
          "output_type": "display_data",
          "data": {
            "text/plain": [
              "<Figure size 720x720 with 2 Axes>"
            ],
            "image/png": "[encoded data removed]"
          },
          "metadata": {
            "needs_background": "light"
          }
        }
      ]
    },
    {
      "cell_type": "markdown",
      "source": [
        "###Ejercicio 1: Analizar el reporte del clasificador, los indicadores de rendimiento y la matriz de confusión\n",
        "\n"
      ],
      "metadata": {
        "id": "b4tL_p10NgLE"
      }
    },
    {
      "cell_type": "markdown",
      "source": [
        "¿Qué les dicen los valores?"
      ],
      "metadata": {
        "id": "hz0zfAeROkvT"
      }
    },
    {
      "cell_type": "markdown",
      "source": [
        "###Ejercicio 2: Localizar dos elementos para los cuales el modelo haya fallado, y verificar por qué puede haberse equivocado.\n",
        "\n"
      ],
      "metadata": {
        "id": "ok4tJBcOOhd4"
      }
    },
    {
      "cell_type": "markdown",
      "source": [
        "###Ejercicio 3: Probar otras arquitecturas de RN, usando diferentes funciones de activación, learning rates y otros parámetros\n",
        "\n",
        "\n",
        "Presentar un gráfico con los diferentes resultados de desempeño y sus configuraciones"
      ],
      "metadata": {
        "id": "QAgdwWlrOjTI"
      }
    }
  ]
}